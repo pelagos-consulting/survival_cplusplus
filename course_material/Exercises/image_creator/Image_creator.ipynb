{
 "cells": [
  {
   "cell_type": "markdown",
   "id": "5be339e8-0059-425a-8fac-cd4ae8e93914",
   "metadata": {},
   "source": [
    "# Exercise: Finish a program to fill a 2D array\n",
    "\n",
    "The program [image_creator.cpp](image_creator.cpp) draws on many of the C++ concepts that are taught in this lesson. It also introduces the way in which accelerated frameworks like OpenCL and HIP execute small functions called *kernels* over iteration spaces of up to three dimensions.\n",
    "\n",
    "Within **main**, the program allocates an array `arr` of size (4x6). This array is one-dimensional, but it is accessed as if it was *folded* into a 2D array of size (N0=4, N1=6). The program used nested loops to iterate over the domain of `arr` and each coordinate (i0, i1) it executes a function called `fill_kernel` to fill the array with the value of i0xi1.\n",
    "\n",
    "The problem is fairly straightforward and requires **only two lines of code**. However these two lines require a *firm grasp* of multi-dimensional array indexing in order to get it right. Within the function `fill_kernel` you need to use **row-major** ordering to fill `arr` at coordinates `(i0, i1)` with the value of `i0*i1`.\n",
    "\n",
    "The supplied function `m_show_matrix` prints out the array to the command line and the program writes the resulting image to a file called `image.dat`. You are welcome to use these tools to help debug your code, and you can also use **std::printf**, **std::cout**, or the GNU debugger GDB."
   ]
  },
  {
   "cell_type": "markdown",
   "id": "32fa07bc-4eab-44c3-a6b8-6a8b913c7011",
   "metadata": {},
   "source": [
    "## Steps\n",
    "\n",
    "* Open [image_creator.cpp](image_creator.cpp) and have a look to see what the file is doing.\n",
    "* Open a terminal and use **cd** to navigate to the **L0_Survival_C++** directory.\n",
    "```bash\n",
    "cd course_material/L0_Survival_C++\n",
    "```\n",
    "* Type **make clean** and then **make** to make the program **image_creator.exe**. Notice that we changed the makefile to compile with flags \"-g -O0\". These flags enable extra support for debugging and turns off all optimisations that might hide code. We could also have compiled the source file directly by typing: \n",
    "```bash\n",
    "g++ -g -O0 image_creator.cpp -o image_creator.exe\n",
    "``` \n",
    "* Run the program ```./image_creator.exe``` to verify that it produces an empty array of zeros."
   ]
  },
  {
   "cell_type": "code",
   "execution_count": 2,
   "id": "b3dcf240-e24b-4db1-92d2-16f836b1c7ed",
   "metadata": {},
   "outputs": [
    {
     "name": "stdout",
     "output_type": "stream",
     "text": [
      "The computed solution (arr) is\n",
      "------\n",
      "|  0.00e+00  0.00e+00  0.00e+00  0.00e+00  0.00e+00  0.00e+00 |\n",
      "|  0.00e+00  0.00e+00  0.00e+00  0.00e+00  0.00e+00  0.00e+00 |\n",
      "|  0.00e+00  0.00e+00  0.00e+00  0.00e+00  0.00e+00  0.00e+00 |\n",
      "|  0.00e+00  0.00e+00  0.00e+00  0.00e+00  0.00e+00  0.00e+00 |\n",
      "------\n"
     ]
    }
   ],
   "source": [
    "!./image_creator.exe"
   ]
  },
  {
   "cell_type": "markdown",
   "id": "af5185da-38fb-4e08-a771-ce14c2b1eee6",
   "metadata": {},
   "source": [
    "* Make changes to `fill_kernel` to fill the allocation `arr` with the correct value and use `make` to recompile.\n",
    "* Debug any issues with your code using print statements or the GNU debugger.\n",
    "* Success is when your code doesn't crash, and produces the same output as `image_creator_answer.exe`."
   ]
  },
  {
   "cell_type": "code",
   "execution_count": 1,
   "id": "552d47eb-3856-4421-972d-0bbcc6a35cf1",
   "metadata": {},
   "outputs": [
    {
     "name": "stdout",
     "output_type": "stream",
     "text": [
      "The computed solution (arr) is\n",
      "------\n",
      "|  0.00e+00  0.00e+00  0.00e+00  0.00e+00  0.00e+00  0.00e+00 |\n",
      "|  0.00e+00  1.00e+00  2.00e+00  3.00e+00  4.00e+00  5.00e+00 |\n",
      "|  0.00e+00  2.00e+00  4.00e+00  6.00e+00  8.00e+00  1.00e+01 |\n",
      "|  0.00e+00  3.00e+00  6.00e+00  9.00e+00  1.20e+01  1.50e+01 |\n",
      "------\n"
     ]
    }
   ],
   "source": [
    "!./image_creator_answer.exe"
   ]
  },
  {
   "cell_type": "markdown",
   "id": "8b9713b7-86ce-4655-bb4f-83bd867b0baa",
   "metadata": {},
   "source": [
    "## Debugging\n",
    "\n",
    "You can use either print statements or a debugger to find errors in your code. "
   ]
  },
  {
   "cell_type": "markdown",
   "id": "df06ae20-9c3f-4972-8e26-ee8ac893b45a",
   "metadata": {},
   "source": [
    "### Debugging with print statements\n",
    "\n",
    "You can use C or C++ style print statements to print variables during the execution of a program. This process can be laborious because you need to add and remove code from your program and recompile each time."
   ]
  },
  {
   "cell_type": "markdown",
   "id": "e6bdf588-4780-40ee-8c89-58581e3651df",
   "metadata": {},
   "source": [
    "### Debugging with GDB\n",
    "\n",
    "Print statements can be helpful, but a debugger is much more powerful. You can use a debugger to step through each line of the program and examine variables. Here is a mini-tutorial.\n",
    "\n",
    "* Run the program with the GNU DeBugger (GDB) using the command\n",
    "```bash\n",
    "gdb ./image_creator.exe\n",
    "```\n",
    "* Now within gdb type ```run```\n",
    "to start the program. It will execute until it crashes\n",
    "* Set a breakpoint to stop at the `fill_kernel` function with the command\n",
    "```bash\n",
    "b fill_kernel\n",
    "```\n",
    "or you can stop anywhere by quoting a source file and line number, like this:\n",
    "```bash\n",
    "b image_creator.cpp:28\n",
    "```\n",
    "\n",
    "* Execute `run` again, it will run until it hits the breakpoint.\n",
    "* Print the passed-in variables `N0` and `N1` with this command\n",
    "```bash\n",
    "print N0\n",
    "print N1\n",
    "```\n",
    "In this way you can print variables and even print array values!\n",
    "```bash\n",
    "print A[0]\n",
    "```\n",
    "* Step through a few lines of code, press `n` and then `enter` a few times. Notice how the debugger is executing the `fill_kernel` function again and again from the inner i1 loop.\n",
    "* You can use the `s` command to step into a function that is called. Then use `n` to walk over the lines in that function.\n",
    "* The `c` command continues until the next breakpoint is encountered or the program exits.\n",
    "* You can then execute `run` again to start the program from the beginning.\n",
    "* When you are done, within **gdb** type ```del``` to remove all breakpoints and then type ```quit``` to quit the debugger."
   ]
  },
  {
   "cell_type": "markdown",
   "id": "e8c6587e-a86d-4f9d-b6e6-541d0a4b30d2",
   "metadata": {},
   "source": [
    "## The solution if you get stuck\n",
    "\n",
    "You can always peek at the solution [image_creator_answer.cpp](image_creator_answer.cpp). The bugs are fixed, and it can be compiled with either **make** or \n",
    "```bash\n",
    "g++ -g -O0 -I../include image_creator_answer.cpp -o image_creator_answer.exe\n",
    "```"
   ]
  },
  {
   "cell_type": "code",
   "execution_count": 7,
   "id": "5ed833ad-8f61-4136-81f0-42bddc2e0129",
   "metadata": {},
   "outputs": [
    {
     "name": "stdout",
     "output_type": "stream",
     "text": [
      "g++ -g -std=c++11 -O0 -I/usr/include -I../include -L/usr/lib/x86_64-linux-gnu image_creator_answer.cpp\\\n",
      "\t-o image_creator_answer.exe \n",
      "b interpreted as an integer: 116\n",
      "b interpreted as a character: t\n",
      "abcd\n",
      "float representation, x = 5.000000 y = 6.000000\n",
      "The computed solution (arr) is\n",
      "------\n",
      "|  0.00e+00  0.00e+00  0.00e+00  0.00e+00  0.00e+00  0.00e+00 |\n",
      "|  0.00e+00  1.00e+00  2.00e+00  3.00e+00  4.00e+00  5.00e+00 |\n",
      "|  0.00e+00  2.00e+00  4.00e+00  6.00e+00  8.00e+00  1.00e+01 |\n",
      "|  0.00e+00  3.00e+00  6.00e+00  9.00e+00  1.20e+01  1.50e+01 |\n",
      "------\n"
     ]
    }
   ],
   "source": [
    "!make image_creator_answer.exe; ./image_creator_answer.exe"
   ]
  },
  {
   "cell_type": "code",
   "execution_count": null,
   "id": "eb4d804c-a10d-4d61-91a4-b5565e86152c",
   "metadata": {},
   "outputs": [],
   "source": []
  }
 ],
 "metadata": {
  "kernelspec": {
   "display_name": "Python 3 (ipykernel)",
   "language": "python",
   "name": "python3"
  },
  "language_info": {
   "codemirror_mode": {
    "name": "ipython",
    "version": 3
   },
   "file_extension": ".py",
   "mimetype": "text/x-python",
   "name": "python",
   "nbconvert_exporter": "python",
   "pygments_lexer": "ipython3",
   "version": "3.10.12"
  }
 },
 "nbformat": 4,
 "nbformat_minor": 5
}
