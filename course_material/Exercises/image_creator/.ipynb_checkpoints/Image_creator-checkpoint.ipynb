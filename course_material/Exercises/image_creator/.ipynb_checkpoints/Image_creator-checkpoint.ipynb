{
 "cells": [
  {
   "cell_type": "markdown",
   "id": "5be339e8-0059-425a-8fac-cd4ae8e93914",
   "metadata": {},
   "source": [
    "# Exercise: Finish a program to fill a 2D array\n",
    "\n",
    "The program [image_creator.cpp](image_creator.cpp) draws on many of the C++ concepts that are taught in this lesson. It also introduces the way in which accelerated frameworks like OpenCL and HIP execute small functions called *kernels* over iteration spaces of up to three dimensions.\n",
    "\n",
    "Within **main**, the program allocates an array `arr` of size (4x6). This array is one-dimensional, but it is accessed as if it was *folded* into a 2D array of size (N0=4, N1=6). The program used nested loops to iterate over the domain of `arr` and each coordinate (i0, i1) it executes a function called `fill_kernel` to fill the array with the value of i0xi1.\n",
    "\n",
    "The problem is fairly straightforward and requires **only two lines of code**. However these two lines require a *firm grasp* of multi-dimensional array indexing in order to get it right. Within the function `fill_kernel` you need to use **row-major** ordering to fill `arr` at coordinates `(i0, i1)` with the value of `i0*i1`.\n",
    "\n",
    "The supplied function `m_show_matrix` prints out the array to the command line and the program writes the resulting image to a file called `image.dat`. You are welcome to use these tools to help debug your code, and you can also use **std::printf**, **std::cout**, or the GNU debugger GDB."
   ]
  },
  {
   "cell_type": "markdown",
   "id": "32fa07bc-4eab-44c3-a6b8-6a8b913c7011",
   "metadata": {},
   "source": [
    "## Steps\n",
    "\n",
    "* Open [image_creator.cpp](image_creator.cpp) and have a look to see what the file is doing.\n",
    "* Open a terminal and use **cd** to navigate to the **L0_Survival_C++** directory.\n",
    "```bash\n",
    "cd course_material/L0_Survival_C++\n",
    "```\n",
    "* Type **make clean** and then **make** to make the program **image_creator.exe**. Notice that we changed the makefile to compile with flags \"-g -O0\". These flags enable extra support for debugging and turns off all optimisations that might hide code. We could also have compiled the source file directly by typing: \n",
    "```bash\n",
    "g++ -g -O0 image_creator.cpp -o image_creator.exe\n",
    "``` \n",
    "* Run the program ```./image_creator.exe``` to verify that it produces an empty array of zeros."
   ]
  },
  {
   "cell_type": "code",
   "execution_count": 2,
   "id": "b3dcf240-e24b-4db1-92d2-16f836b1c7ed",
   "metadata": {},
   "outputs": [
    {
     "name": "stdout",
     "output_type": "stream",
     "text": [
      "The computed solution (arr) is\n",
      "------\n",
      "|  0.00e+00  0.00e+00  0.00e+00  0.00e+00  0.00e+00  0.00e+00 |\n",
      "|  0.00e+00  0.00e+00  0.00e+00  0.00e+00  0.00e+00  0.00e+00 |\n",
      "|  0.00e+00  0.00e+00  0.00e+00  0.00e+00  0.00e+00  0.00e+00 |\n",
      "|  0.00e+00  0.00e+00  0.00e+00  0.00e+00  0.00e+00  0.00e+00 |\n",
      "------\n"
     ]
    }
   ],
   "source": [
    "!./image_creator.exe"
   ]
  },
  {
   "cell_type": "markdown",
   "id": "af5185da-38fb-4e08-a771-ce14c2b1eee6",
   "metadata": {},
   "source": [
    "* Make changes to `fill_kernel` to fill the allocation `arr` with the correct value and use `make` to recompile.\n",
    "* Debug any issues with your code using print statements or the GNU debugger.\n",
    "* Success is when your code doesn't crash, and produces the same output as `image_creator_answer.exe`."
   ]
  },
  {
   "cell_type": "code",
   "execution_count": 1,
   "id": "552d47eb-3856-4421-972d-0bbcc6a35cf1",
   "metadata": {},
   "outputs": [
    {
     "name": "stdout",
     "output_type": "stream",
     "text": [
      "The computed solution (arr) is\n",
      "------\n",
      "|  0.00e+00  0.00e+00  0.00e+00  0.00e+00  0.00e+00  0.00e+00 |\n",
      "|  0.00e+00  1.00e+00  2.00e+00  3.00e+00  4.00e+00  5.00e+00 |\n",
      "|  0.00e+00  2.00e+00  4.00e+00  6.00e+00  8.00e+00  1.00e+01 |\n",
      "|  0.00e+00  3.00e+00  6.00e+00  9.00e+00  1.20e+01  1.50e+01 |\n",
      "------\n"
     ]
    }
   ],
   "source": [
    "!./image_creator_answer.exe"
   ]
  },
  {
   "cell_type": "markdown",
   "id": "8b9713b7-86ce-4655-bb4f-83bd867b0baa",
   "metadata": {},
   "source": [
    "## Debugging\n",
    "\n",
    "You can use either print statements or a debugger to find errors in your code. "
   ]
  },
  {
   "cell_type": "markdown",
   "id": "df06ae20-9c3f-4972-8e26-ee8ac893b45a",
   "metadata": {},
   "source": [
    "### Debugging with print statements\n",
    "\n",
    "You can use C or C++ style print statements to print variables during the execution of a program. This process can be laborious because you need to add and remove code from your program and recompile each time."
   ]
  },
  {
   "cell_type": "markdown",
   "id": "e6bdf588-4780-40ee-8c89-58581e3651df",
   "metadata": {},
   "source": [
    "### Debugging with GDB\n",
    "\n",
    "Print statements can be helpful, but a debugger is much more powerful. You can use a debugger to step through each line of the program and examine variables. Here is a mini-tutorial.\n",
    "\n",
    "* Run the program with the GNU DeBugger (GDB) using the command\n",
    "```bash\n",
    "gdb ./image_creator.exe\n",
    "```\n",
    "\n",
    "or, if you have access to Setonix or other system with ROCM installed.\n",
    "\n",
    "```bash\n",
    "module load rocm/5.4.3\n",
    "rocgdb ./image_creator.exe\n",
    "```\n",
    "\n",
    "* Now within gdb type ```run```\n",
    "to start the program. It will execute until it crashes\n",
    "* Set a breakpoint to stop at the `fill_kernel` function with the command\n",
    "```bash\n",
    "b fill_kernel\n",
    "```\n",
    "or you can stop anywhere by quoting a source file and line number, like this:\n",
    "```bash\n",
    "b image_creator.cpp:28\n",
    "```\n",
    "\n",
    "* Execute `run` again, it will run until it hits the breakpoint.\n",
    "* Print the passed-in variables `N0` and `N1` with this command\n",
    "```bash\n",
    "print N0\n",
    "print N1\n",
    "```\n",
    "In this way you can print variables and even print array values!\n",
    "```bash\n",
    "print A[0]\n",
    "```\n",
    "* Step through a few lines of code, press `n` and then `enter` a few times. Notice how the debugger is executing the `fill_kernel` function again and again from the inner i1 loop.\n",
    "* You can use the `s` command to step into a function that is called. Then use `n` to walk over the lines in that function.\n",
    "* The `c` command continues until the next breakpoint is encountered or the program exits.\n",
    "* You can then execute `run` again to start the program from the beginning.\n",
    "* When you are done, within **gdb** type ```del``` to remove all breakpoints and then type ```quit``` to quit the debugger."
   ]
  },
  {
   "cell_type": "markdown",
   "id": "e8c6587e-a86d-4f9d-b6e6-541d0a4b30d2",
   "metadata": {},
   "source": [
    "## The solution if you get stuck\n",
    "\n",
    "You can always peek at the solution [image_creator_answer.cpp](image_creator_answer.cpp). The bugs are fixed, and it can be compiled with either **make** or \n",
    "```bash\n",
    "g++ -g -O0 -I../include image_creator_answer.cpp -o image_creator_answer.exe\n",
    "```"
   ]
  },
  {
   "cell_type": "code",
   "execution_count": 7,
   "id": "5ed833ad-8f61-4136-81f0-42bddc2e0129",
   "metadata": {},
   "outputs": [
    {
     "name": "stdout",
     "output_type": "stream",
     "text": [
      "g++ -g -std=c++11 -O0 -I/usr/include -I../include -L/usr/lib/x86_64-linux-gnu image_creator_answer.cpp\\\n",
      "\t-o image_creator_answer.exe \n",
      "b interpreted as an integer: 116\n",
      "b interpreted as a character: t\n",
      "abcd\n",
      "float representation, x = 5.000000 y = 6.000000\n",
      "The computed solution (arr) is\n",
      "------\n",
      "|  0.00e+00  0.00e+00  0.00e+00  0.00e+00  0.00e+00  0.00e+00 |\n",
      "|  0.00e+00  1.00e+00  2.00e+00  3.00e+00  4.00e+00  5.00e+00 |\n",
      "|  0.00e+00  2.00e+00  4.00e+00  6.00e+00  8.00e+00  1.00e+01 |\n",
      "|  0.00e+00  3.00e+00  6.00e+00  9.00e+00  1.20e+01  1.50e+01 |\n",
      "------\n"
     ]
    }
   ],
   "source": [
    "!make image_creator_answer.exe; ./image_creator_answer.exe"
   ]
  },
  {
   "cell_type": "markdown",
   "id": "34ced89d-9ff3-4b9e-85eb-4262d52e0e91",
   "metadata": {},
   "source": [
    "## Display the image with Python"
   ]
  },
  {
   "cell_type": "code",
   "execution_count": 16,
   "id": "c9761625-d018-4faa-8451-27f8b91a9792",
   "metadata": {},
   "outputs": [
    {
     "data": {
      "text/plain": [
       "Text(0, 0.5, 'Row index')"
      ]
     },
     "execution_count": 16,
     "metadata": {},
     "output_type": "execute_result"
    },
    {
     "data": {
      "application/vnd.jupyter.widget-view+json": {
       "model_id": "b387752d02cc4a459f8515e0ac0f30a4",
       "version_major": 2,
       "version_minor": 0
      },
      "image/png": "[encoded data removed]",
      "text/html": [
       "\n",
       "            <div style=\"display: inline-block;\">\n",
       "                <div class=\"jupyter-widgets widget-label\" style=\"text-align: center;\">\n",
       "                    Figure\n",
       "                </div>\n",
       "                <img src='data:image/png;base64,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' width=800.0/>\n",
       "            </div>\n",
       "        "
      ],
      "text/plain": [
       "Canvas(toolbar=Toolbar(toolitems=[('Home', 'Reset original view', 'home', 'home'), ('Back', 'Back to previous …"
      ]
     },
     "metadata": {},
     "output_type": "display_data"
    }
   ],
   "source": [
    "# Get the size of the image\n",
    "import numpy as np\n",
    "from matplotlib import pyplot as plt\n",
    "\n",
    "%matplotlib widget\n",
    "\n",
    "# Read the size information from the header file\n",
    "with open(\"mat_size.hpp\") as fd:\n",
    "    nrows = int(fd.readline().split()[2])\n",
    "    ncols = int(fd.readline().split()[2])\n",
    "\n",
    "# Read the binary image file\n",
    "img = np.fromfile(\"image.dat\", dtype=np.float32).reshape(nrows,ncols)\n",
    "\n",
    "# Plot the image\n",
    "[fig, ax] = plt.subplots(1, 1, figsize=(8, 6))\n",
    "im2 = ax.imshow(\n",
    "    img,\n",
    "    aspect=\"equal\",\n",
    "    origin=\"upper\",\n",
    ")\n",
    "\n",
    "# Set labels\n",
    "ax.set_xlabel(\"Column index\")\n",
    "ax.set_ylabel(\"Row index\")"
   ]
  }
 ],
 "metadata": {
  "kernelspec": {
   "display_name": "Python 3 (ipykernel)",
   "language": "python",
   "name": "python3"
  },
  "language_info": {
   "codemirror_mode": {
    "name": "ipython",
    "version": 3
   },
   "file_extension": ".py",
   "mimetype": "text/x-python",
   "name": "python",
   "nbconvert_exporter": "python",
   "pygments_lexer": "ipython3",
   "version": "3.10.12"
  }
 },
 "nbformat": 4,
 "nbformat_minor": 5
}
