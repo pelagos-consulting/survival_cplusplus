{
 "cells": [
  {
   "cell_type": "markdown",
   "id": "0044c8e0-d520-4713-860d-ac5c6e0948ce",
   "metadata": {},
   "source": [
    "## Compile and run a simple C++ application\n",
    "\n",
    "The following is a simple program to print all the arguments in an application. We loop through the list of arguments and use `std::printf` to print every argument as a string.\n",
    "\n",
    "```C++\n",
    "#include <cstdio>\n",
    "\n",
    "/// Print all the arguments passed into the application\n",
    "int main(int argc, char** argv) {\n",
    "    \n",
    "    // argc is the total number of arguments\n",
    "    // argv is a memory allocation of pointers to string arguments\n",
    "    \n",
    "    for (int i=0; i<argc; i++) {\n",
    "        std::printf(\"%s \", argv[i]);\n",
    "    }\n",
    "    \n",
    "    // Put a new line \n",
    "    std::printf(\"\\n\");\n",
    "}\n",
    "```"
   ]
  },
  {
   "cell_type": "markdown",
   "id": "ab6dcd06-dad3-43d8-998b-4e012b0bfef6",
   "metadata": {},
   "source": [
    "In this exercise we are going to compile and run this application."
   ]
  },
  {
   "cell_type": "markdown",
   "id": "e58c8f69-d873-441b-af23-3ddb30f183f3",
   "metadata": {},
   "source": [
    "#### Steps\n",
    "\n",
    "* Copy the above program to a file called **repeater.cpp** in the same directory as the course material. You can use any text editor that you have available. Here we use the Nano editor.\n",
    "```bash\n",
    "cd course_material/Exercises/simple_application\n",
    "nano repeater.cpp\n",
    "```\n",
    "* Copy from the program above to the open file in the terminal window. Then write out the file with `cntrl+o` and exit. If you get stuck then there is a backup file you can use.\n",
    "```bash\n",
    "cp repeater_answer.cpp repeater.cpp\n",
    "```\n",
    "* Compile the code with your compiler. In this instance we use a C++ compiler called **g++** to compile the code. The output file **repeater.exe** is specified with option `-o`\n",
    "```C++\n",
    "g++ repeater.cpp -o repeater.exe\n",
    "```\n",
    "* Run the code, first with no arguments\n",
    "```bash\n",
    "./repeater.exe\n",
    "```\n",
    "Notice that argument 0 is the name of the program being called. Add further arguments and see what happens.\n",
    "```bash\n",
    "./repeater.exe arg1 arg2...\n",
    "```\n",
    "\n",
    "#### Bonus tasks\n",
    "\n",
    "* Add ```#include <iostream>``` to the header definition of **repeater.cpp** in order to access string handling functionality like **std::cout**.\n",
    "* Replace all calls to **std::printf** with **std::cout** \n",
    "* Compile the code again\n",
    "* Check to see if the code behaves as before."
   ]
  }
 ],
 "metadata": {
  "kernelspec": {
   "display_name": "Python 3 (ipykernel)",
   "language": "python",
   "name": "python3"
  },
  "language_info": {
   "codemirror_mode": {
    "name": "ipython",
    "version": 3
   },
   "file_extension": ".py",
   "mimetype": "text/x-python",
   "name": "python",
   "nbconvert_exporter": "python",
   "pygments_lexer": "ipython3",
   "version": "3.10.12"
  }
 },
 "nbformat": 4,
 "nbformat_minor": 5
}
